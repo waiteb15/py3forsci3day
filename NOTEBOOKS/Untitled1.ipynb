{
 "cells": [
  {
   "cell_type": "markdown",
   "metadata": {},
   "source": [
    "# My Cool New Notebook\n",
    "\n",
    "I'm going to do amazing things here. Stay tuned."
   ]
  },
  {
   "cell_type": "code",
   "execution_count": 2,
   "metadata": {},
   "outputs": [
    {
     "name": "stdout",
     "output_type": "stream",
     "text": [
      "..\n",
      "../TEMP\n",
      "../ANSWERS\n",
      "../ANSWERS/__pycache__\n",
      "../css\n",
      "../kapl\n",
      "../kapl/dh\n",
      "../kapl/__pycache__\n",
      "../kapl/safety\n",
      "../kapl/cooling\n",
      "../kapl/cooling/__pycache__\n",
      "../js\n",
      "../SETUP\n",
      "../__pycache__\n",
      "../img\n",
      "../EXAMPLES\n",
      "../EXAMPLES/EXAMPLES\n",
      "../EXAMPLES/temperature\n",
      "../EXAMPLES/temperature/dist\n",
      "../EXAMPLES/temperature/temperature.egg-info\n",
      "../EXAMPLES/temperature/build\n",
      "../EXAMPLES/temperature/build/bdist.macosx-10.6-x86_64\n",
      "../foo\n",
      "../foo/spam\n",
      "../foo/ham\n",
      "../foo/toast\n",
      "../foo/bar\n",
      "../foo/bar/blah\n",
      "../DATA\n",
      "../DATA/wetprf\n",
      "../DATA/weather\n",
      "../NOTEBOOKS\n",
      "../NOTEBOOKS/images\n",
      "../NOTEBOOKS/.ipynb_checkpoints\n",
      "../.idea\n",
      "../.idea/inspectionProfiles\n"
     ]
    }
   ],
   "source": [
    "import os\n",
    "for dir_name, *_ in os.walk('..'):\n",
    "    if '.git' in dir_name:\n",
    "        continue\n",
    "    print(dir_name)"
   ]
  },
  {
   "cell_type": "code",
   "execution_count": null,
   "metadata": {},
   "outputs": [],
   "source": []
  }
 ],
 "metadata": {
  "kernelspec": {
   "display_name": "Python 3",
   "language": "python",
   "name": "python3"
  },
  "language_info": {
   "codemirror_mode": {
    "name": "ipython",
    "version": 3
   },
   "file_extension": ".py",
   "mimetype": "text/x-python",
   "name": "python",
   "nbconvert_exporter": "python",
   "pygments_lexer": "ipython3",
   "version": "3.7.0"
  }
 },
 "nbformat": 4,
 "nbformat_minor": 2
}
