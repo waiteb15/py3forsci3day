{
 "cells": [
  {
   "cell_type": "markdown",
   "metadata": {},
   "source": [
    "## Using the %%cython extension\n",
    "<span style=\"color: red\">todo: explanations</span>"
   ]
  },
  {
   "cell_type": "code",
   "execution_count": 42,
   "metadata": {
    "collapsed": true
   },
   "outputs": [],
   "source": [
    "# Normal version\n",
    "def count_primes_normal(limit):\n",
    "    limit += 1\n",
    "    flags = [True] * limit\n",
    "    count = 0\n",
    "    for i in range(2, limit):\n",
    "        if flags[i]:\n",
    "            count += 1\n",
    "            for j in range(2 * i, limit, i):\n",
    "                flags[j] = False\n",
    "    return count"
   ]
  },
  {
   "cell_type": "code",
   "execution_count": 43,
   "metadata": {
    "collapsed": true
   },
   "outputs": [],
   "source": [
    "%load_ext cython"
   ]
  },
  {
   "cell_type": "code",
   "execution_count": 44,
   "metadata": {
    "collapsed": true
   },
   "outputs": [],
   "source": [
    "%%cython\n",
    "def count_primes_cythonized_auto(limit):\n",
    "    limit += 1\n",
    "    flags = [True] * limit\n",
    "    count = 0\n",
    "    for i in range(2, limit):\n",
    "        if flags[i]:\n",
    "            count += 1\n",
    "            for j in range(2 * i, limit, i):\n",
    "                flags[j] = False\n",
    "    return count"
   ]
  },
  {
   "cell_type": "code",
   "execution_count": 45,
   "metadata": {
    "collapsed": true
   },
   "outputs": [],
   "source": [
    "%%cython\n",
    "def count_primes_cythonized_manual():\n",
    "    cdef int[101] flags = [True] * 101\n",
    "    cdef int count = 0\n",
    "    cdef int i = 0\n",
    "    cdef int j = 0\n",
    "    \n",
    "    for i in range(2, 101):\n",
    "        if flags[i]:\n",
    "            count += 1\n",
    "            for j in range(2 * i, 101, i):\n",
    "                flags[j] = False\n",
    "    return count"
   ]
  },
  {
   "cell_type": "code",
   "execution_count": 46,
   "metadata": {},
   "outputs": [
    {
     "name": "stdout",
     "output_type": "stream",
     "text": [
      "19.8 µs ± 316 ns per loop (mean ± std. dev. of 7 runs, 100000 loops each)\n"
     ]
    }
   ],
   "source": [
    "%timeit count_primes_normal(100)"
   ]
  },
  {
   "cell_type": "code",
   "execution_count": 47,
   "metadata": {},
   "outputs": [
    {
     "name": "stdout",
     "output_type": "stream",
     "text": [
      "12.1 µs ± 622 ns per loop (mean ± std. dev. of 7 runs, 100000 loops each)\n"
     ]
    }
   ],
   "source": [
    "%timeit count_primes_cythonized_auto(100)"
   ]
  },
  {
   "cell_type": "code",
   "execution_count": 48,
   "metadata": {},
   "outputs": [
    {
     "name": "stdout",
     "output_type": "stream",
     "text": [
      "7.41 µs ± 962 ns per loop (mean ± std. dev. of 7 runs, 100000 loops each)\n"
     ]
    }
   ],
   "source": [
    "%timeit count_primes_cythonized_manual()"
   ]
  },
  {
   "cell_type": "code",
   "execution_count": null,
   "metadata": {
    "collapsed": true
   },
   "outputs": [],
   "source": []
  }
 ],
 "metadata": {
  "kernelspec": {
   "display_name": "Python 3",
   "language": "python",
   "name": "python3"
  },
  "language_info": {
   "codemirror_mode": {
    "name": "ipython",
    "version": 3
   },
   "file_extension": ".py",
   "mimetype": "text/x-python",
   "name": "python",
   "nbconvert_exporter": "python",
   "pygments_lexer": "ipython3",
   "version": "3.6.2"
  }
 },
 "nbformat": 4,
 "nbformat_minor": 1
}
